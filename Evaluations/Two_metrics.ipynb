{
 "cells": [
  {
   "cell_type": "code",
   "execution_count": 1,
   "metadata": {},
   "outputs": [],
   "source": [
    "from langsmith import evaluate, Client\n",
    "from langsmith.schemas import Example, Run\n",
    "\n",
    "# 1. Create and/or select your dataset\n",
    "client = Client()\n",
    "dataset = client.clone_public_dataset(\"https://smith.langchain.com/public/728e92ee-b050-4284-93b8-45682ad008f2/d\")"
   ]
  },
  {
   "cell_type": "code",
   "execution_count": 2,
   "metadata": {},
   "outputs": [],
   "source": [
    "import numpy as np"
   ]
  },
  {
   "cell_type": "code",
   "execution_count": 3,
   "metadata": {},
   "outputs": [],
   "source": [
    "import ollama\n",
    "from langsmith.schemas import Run, Example\n",
    "\n",
    "def faithfulness(root_run, example) -> dict:\n",
    "    root_context = root_run.inputs.get(\"context\", \"\").lower()\n",
    "    root_output = root_run.outputs.get(\"output\", \"\").lower()\n",
    "    \n",
    "    # Split the output into claims (this could be refined for complex parsing)\n",
    "    claims = root_output.split(\".\")  # Assuming claims are sentence-separated\n",
    "    \n",
    "    # Count claims that are supported by the context\n",
    "    supported_claims = sum(1 for claim in claims if all(word in root_context for word in claim.split()))\n",
    "    \n",
    "    # Calculate the faithfulness score as a ratio\n",
    "    faithfulness_score = supported_claims / len(claims) if claims else 0\n",
    "    \n",
    "    return {\"key\": \"faithfulness\", \"score\": faithfulness_score}\n",
    "\n",
    "# Function to call the ollama model\n",
    "def call_ollama(messages, model: str):\n",
    "    response = \"\"\n",
    "    stream = ollama.chat(messages=messages, model=model, stream=True)\n",
    "    for chunk in stream:\n",
    "        response += chunk[\"message\"][\"content\"]\n",
    "    return response"
   ]
  },
  {
   "cell_type": "code",
   "execution_count": 13,
   "metadata": {},
   "outputs": [],
   "source": [
    "\n",
    "# Main application function\n",
    "def my_app(inputs: dict) -> dict:\n",
    "    system_msg = \"Answer user questions about this context: \\n\\n\\n\"\n",
    "    if isinstance(inputs[\"messages\"], str):\n",
    "        messages = [\n",
    "            {\"role\": \"system\", \"content\": system_msg},\n",
    "            {\"role\": \"user\", \"content\": inputs[\"messages\"]}\n",
    "        ]\n",
    "    elif isinstance(inputs[\"messages\"], list):\n",
    "        messages = [{\"role\": \"system\", \"content\": system_msg}] + inputs[\"messages\"]\n",
    "    else:\n",
    "        raise ValueError(\"Unexpected format for 'messages'\")\n",
    "    \n",
    "    response = call_ollama(messages, model=\"llama3.2\")\n",
    "    \n",
    "    return {\"answer\": response}"
   ]
  },
  {
   "cell_type": "code",
   "execution_count": 14,
   "metadata": {},
   "outputs": [
    {
     "name": "stdout",
     "output_type": "stream",
     "text": [
      "View the evaluation results for experiment: 'llama3.2-Two-metrics-6772a2af' at:\n",
      "https://smith.langchain.com/o/a38aac4e-6076-448b-8973-6807f5f8eeaf/datasets/f54332f3-f098-4a41-ba9b-bfd0f8df473e/compare?selectedSessions=6a91a8c4-77d4-4d25-aa62-a8d51fc5fbbc\n",
      "\n",
      "\n"
     ]
    },
    {
     "name": "stderr",
     "output_type": "stream",
     "text": [
      "20it [16:22, 49.14s/it]"
     ]
    },
    {
     "name": "stdout",
     "output_type": "stream",
     "text": [
      "<ExperimentResults llama3.2-Two-metrics-6772a2af>\n"
     ]
    },
    {
     "name": "stderr",
     "output_type": "stream",
     "text": [
      "\n"
     ]
    }
   ],
   "source": [
    "# Adding all evaluators to qa_evalulator list\n",
    "qa_evalulator = [faithfulness]\n",
    "\n",
    "# Conduct evaluation\"\n",
    "experiment_results = evaluate(\n",
    "    my_app,\n",
    "    data=dataset.name,\n",
    "    evaluators=qa_evalulator,\n",
    "    experiment_prefix=\"llama3.2-Two-metrics\",\n",
    ")\n",
    "\n",
    "print(experiment_results)\n"
   ]
  },
  {
   "cell_type": "markdown",
   "metadata": {},
   "source": [
    "## Gemma"
   ]
  },
  {
   "cell_type": "code",
   "execution_count": 4,
   "metadata": {},
   "outputs": [],
   "source": [
    "from groq import Groq\n",
    "from langsmith.schemas import Run, Example\n",
    "from langsmith.evaluation import evaluate\n",
    "\n",
    "# Initialize Groq client with API key\n",
    "groq_client = Groq(api_key=\"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\")\n",
    "\n",
    "def my_app(inputs: dict) -> dict:\n",
    "    \"\"\"\n",
    "    Generates answers to user questions based on the provided context using the Groq API.\n",
    "    \"\"\"\n",
    "    system_msg = \"You are a helpful assistant for document-based queries. \\n\\n\\n\"\n",
    "    if isinstance(inputs[\"messages\"], str):\n",
    "        messages = [\n",
    "            {\"role\": \"system\", \"content\": system_msg},\n",
    "            {\"role\": \"user\", \"content\": inputs[\"messages\"]}\n",
    "        ]\n",
    "    elif isinstance(inputs[\"messages\"], list):\n",
    "        messages = [{\"role\": \"system\", \"content\": system_msg}] + inputs[\"messages\"]\n",
    "    else:\n",
    "        raise ValueError(\"Unexpected format for 'messages'\")\n",
    "\n",
    "    try:\n",
    "        response = groq_client.chat.completions.create(\n",
    "            messages=messages,\n",
    "            model=\"gemma2-9b-it\",\n",
    "            max_tokens=1024,\n",
    "            temperature=0.7\n",
    "        )\n",
    "        return {\"answer\": response.choices[0].message.content}\n",
    "    except Exception as e:\n",
    "        return {\"error\": f\"An error occurred while generating the response: {str(e)}\"}"
   ]
  },
  {
   "cell_type": "code",
   "execution_count": 5,
   "metadata": {},
   "outputs": [
    {
     "name": "stderr",
     "output_type": "stream",
     "text": [
      "c:\\PROJECTS\\AMS-BOT1\\myenv\\lib\\site-packages\\tqdm\\auto.py:21: TqdmWarning: IProgress not found. Please update jupyter and ipywidgets. See https://ipywidgets.readthedocs.io/en/stable/user_install.html\n",
      "  from .autonotebook import tqdm as notebook_tqdm\n"
     ]
    },
    {
     "name": "stdout",
     "output_type": "stream",
     "text": [
      "View the evaluation results for experiment: 'Groq-evaluations-Two-Metrics-1d894cf2' at:\n",
      "https://smith.langchain.com/o/a38aac4e-6076-448b-8973-6807f5f8eeaf/datasets/f54332f3-f098-4a41-ba9b-bfd0f8df473e/compare?selectedSessions=e1c28dce-5608-493b-9ac3-b15b3dc65204\n",
      "\n",
      "\n"
     ]
    },
    {
     "name": "stderr",
     "output_type": "stream",
     "text": [
      "7it [00:03,  2.25it/s]"
     ]
    },
    {
     "name": "stdout",
     "output_type": "stream",
     "text": [
      "Evaluation Results: <ExperimentResults Groq-evaluations-Two-Metrics-1d894cf2>\n"
     ]
    },
    {
     "name": "stderr",
     "output_type": "stream",
     "text": [
      "\n"
     ]
    }
   ],
   "source": [
    "# Combine evaluators\n",
    "qa_evaluators = [faithfulness]\n",
    "\n",
    "# Run evaluation\n",
    "experiment_results = evaluate(\n",
    "    my_app,\n",
    "    data=dataset.name,\n",
    "    evaluators=qa_evaluators,\n",
    "    experiment_prefix=\"Groq-evaluations-Two-Metrics\",\n",
    ")\n",
    "\n",
    "print(\"Evaluation Results:\", experiment_results)"
   ]
  },
  {
   "cell_type": "code",
   "execution_count": 6,
   "metadata": {},
   "outputs": [],
   "source": [
    "from groq import Groq\n",
    "from langsmith.schemas import Run, Example\n",
    "from langsmith.evaluation import evaluate\n",
    "\n",
    "# Initialize Groq client with API key\n",
    "groq_client = Groq(api_key=\"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\")\n",
    "\n",
    "def my_app(inputs: dict) -> dict:\n",
    "    \"\"\"\n",
    "    Generates answers to user questions based on the provided context using the Groq API.\n",
    "    \"\"\"\n",
    "    system_msg = \"You are a helpful assistant for document-based queries. \\n\\n\\n\"\n",
    "    if isinstance(inputs[\"messages\"], str):\n",
    "        messages = [\n",
    "            {\"role\": \"system\", \"content\": system_msg},\n",
    "            {\"role\": \"user\", \"content\": inputs[\"messages\"]}\n",
    "        ]\n",
    "    elif isinstance(inputs[\"messages\"], list):\n",
    "        messages = [{\"role\": \"system\", \"content\": system_msg}] + inputs[\"messages\"]\n",
    "    else:\n",
    "        raise ValueError(\"Unexpected format for 'messages'\")\n",
    "\n",
    "    try:\n",
    "        response = groq_client.chat.completions.create(\n",
    "            messages=messages,\n",
    "            model=\"mixtral-8x7b-32768\",\n",
    "            max_tokens=1024,\n",
    "            temperature=0.7\n",
    "        )\n",
    "        return {\"answer\": response.choices[0].message.content}\n",
    "    except Exception as e:\n",
    "        return {\"error\": f\"An error occurred while generating the response: {str(e)}\"}"
   ]
  },
  {
   "cell_type": "code",
   "execution_count": 7,
   "metadata": {},
   "outputs": [
    {
     "name": "stdout",
     "output_type": "stream",
     "text": [
      "View the evaluation results for experiment: 'Mixtral-Eval-Two-Metrics-da3bbf7f' at:\n",
      "https://smith.langchain.com/o/a38aac4e-6076-448b-8973-6807f5f8eeaf/datasets/f54332f3-f098-4a41-ba9b-bfd0f8df473e/compare?selectedSessions=7230097e-9759-4344-8894-ba5c6ad681ee\n",
      "\n",
      "\n"
     ]
    },
    {
     "name": "stderr",
     "output_type": "stream",
     "text": [
      "7it [00:02,  2.42it/s]"
     ]
    },
    {
     "name": "stdout",
     "output_type": "stream",
     "text": [
      "Evaluation Results: <ExperimentResults Mixtral-Eval-Two-Metrics-da3bbf7f>\n"
     ]
    },
    {
     "name": "stderr",
     "output_type": "stream",
     "text": [
      "\n"
     ]
    }
   ],
   "source": [
    "# Combine evaluators\n",
    "qa_evaluators = [faithfulness\n",
    "]\n",
    "\n",
    "# Run evaluation\n",
    "experiment_results = evaluate(\n",
    "    my_app,\n",
    "    data=dataset.name,\n",
    "    evaluators=qa_evaluators,\n",
    "    experiment_prefix=\"Mixtral-Eval-Two-Metrics\",\n",
    ")\n",
    "\n",
    "print(\"Evaluation Results:\", experiment_results)"
   ]
  },
  {
   "cell_type": "code",
   "execution_count": null,
   "metadata": {},
   "outputs": [],
   "source": []
  }
 ],
 "metadata": {
  "kernelspec": {
   "display_name": "myenv",
   "language": "python",
   "name": "python3"
  },
  "language_info": {
   "codemirror_mode": {
    "name": "ipython",
    "version": 3
   },
   "file_extension": ".py",
   "mimetype": "text/x-python",
   "name": "python",
   "nbconvert_exporter": "python",
   "pygments_lexer": "ipython3",
   "version": "3.10.11"
  }
 },
 "nbformat": 4,
 "nbformat_minor": 2
}
