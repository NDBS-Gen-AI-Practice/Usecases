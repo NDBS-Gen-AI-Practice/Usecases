{
 "cells": [
  {
   "cell_type": "code",
   "execution_count": 1,
   "metadata": {},
   "outputs": [],
   "source": [
    "from langsmith import evaluate, Client\n",
    "from langsmith.schemas import Example, Run\n",
    "\n",
    "# 1. Create and/or select your dataset\n",
    "client = Client()\n",
    "dataset = client.clone_public_dataset(\"https://smith.langchain.com/public/728e92ee-b050-4284-93b8-45682ad008f2/d\")"
   ]
  },
  {
   "cell_type": "code",
   "execution_count": 2,
   "metadata": {},
   "outputs": [],
   "source": [
    "import numpy as np"
   ]
  },
  {
   "cell_type": "markdown",
   "metadata": {},
   "source": [
    "## llama 3.2"
   ]
  },
  {
   "cell_type": "code",
   "execution_count": null,
   "metadata": {},
   "outputs": [],
   "source": [
    "import ollama\n",
    "from langsmith.schemas import Run, Example\n",
    "\n",
    "def faithfulness(root_run, example) -> dict:\n",
    "    root_context = root_run.inputs.get(\"context\", \"\").lower()\n",
    "    root_output = root_run.outputs.get(\"output\", \"\").lower()\n",
    "    \n",
    "    # Split the output into claims (this could be refined for complex parsing)\n",
    "    claims = root_output.split(\".\")  # Assuming claims are sentence-separated\n",
    "    \n",
    "    # Count claims that are supported by the context\n",
    "    supported_claims = sum(1 for claim in claims if all(word in root_context for word in claim.split()))\n",
    "    \n",
    "    # Calculate the faithfulness score as a ratio\n",
    "    faithfulness_score = supported_claims / len(claims) if claims else 0\n",
    "    \n",
    "    return {\"key\": \"faithfulness\", \"score\": faithfulness_score}\n",
    "\n",
    "def context_precision_at_k(root_run, example, K=5) -> dict:\n",
    "    root_context = root_run.inputs.get(\"context\", \"\").lower().split()\n",
    "    root_output = root_run.outputs.get(\"output\", \"\").lower().split()\n",
    "    \n",
    "    # Assuming 'top K' items are segments or phrases from root_output\n",
    "    relevant_items = root_output[:K]  # Take the top-K tokens/words (simplified for illustration)\n",
    "    \n",
    "    # Calculate Precision@k for each item in the top-K relevant items\n",
    "    precision_scores = []\n",
    "    for k in range(1, K+1):\n",
    "        top_k_items = relevant_items[:k]\n",
    "        true_positives = len(set(top_k_items).intersection(root_context))\n",
    "        precision_at_k = true_positives / len(top_k_items) if top_k_items else 0\n",
    "        precision_scores.append(precision_at_k)\n",
    "    \n",
    "    # Calculate weighted average of Precision@k with equal weights\n",
    "    context_precision_score = sum(precision_scores) / K if K > 0 else 0\n",
    "    \n",
    "    return {\"key\": \"context_precision@K\", \"score\": context_precision_score}\n",
    "def context_recall(root_run, example) -> dict:\n",
    "    # Lowercase and split by spaces for simplicity\n",
    "    root_context = set(root_run.inputs.get(\"context\", \"\").lower().split())\n",
    "    root_output = set(root_run.outputs.get(\"output\", \"\").lower().split())\n",
    "    \n",
    "    # Calculate the number of relevant contexts retrieved\n",
    "    relevant_retrieved = len(root_output.intersection(root_context))\n",
    "    \n",
    "    # Calculate the total number of reference contexts\n",
    "    total_reference = len(root_context)\n",
    "    \n",
    "    # Calculate recall score\n",
    "    recall_score = relevant_retrieved / total_reference if total_reference > 0 else 0\n",
    "    return {\"key\": \"context_recall\", \"score\": recall_score}\n",
    "\n",
    " \n",
    "def answer_relevancy(root_run, example) -> dict:\n",
    "\n",
    "    root_output = root_run.outputs.get(\"output\", \"\").strip().lower()\n",
    "\n",
    "    example_answer = example.outputs.get(\"output\", \"\").strip().lower()\n",
    " \n",
    "    # Convert text to word embeddings (assuming precomputed embeddings are provided)\n",
    "\n",
    "    root_embedding = np.array(root_run.outputs.get(\"embedding\", []))\n",
    "\n",
    "    example_embedding = np.array(example.outputs.get(\"embedding\", []))\n",
    " \n",
    "    # Check if embeddings are available\n",
    "\n",
    "    if root_embedding.size == 0 or example_embedding.size == 0:\n",
    "\n",
    "        return {\"key\": \"answer_relevancy\", \"score\": 0}\n",
    " \n",
    "    # Calculate cosine similarity\n",
    "\n",
    "    cosine_similarity = np.dot(root_embedding, example_embedding) / (np.linalg.norm(root_embedding) * np.linalg.norm(example_embedding))\n",
    " \n",
    "    return {\"key\": \"answer_relevancy\", \"score\": cosine_similarity}"
   ]
  },
  {
   "cell_type": "code",
   "execution_count": 4,
   "metadata": {},
   "outputs": [],
   "source": [
    "\n",
    "# Main application function\n",
    "def my_app(inputs: dict) -> dict:\n",
    "    system_msg = \"Answer user questions about this context: \\n\\n\\n\"\n",
    "    if isinstance(inputs[\"messages\"], str):\n",
    "        messages = [\n",
    "            {\"role\": \"system\", \"content\": system_msg},\n",
    "            {\"role\": \"user\", \"content\": inputs[\"messages\"]}\n",
    "        ]\n",
    "    elif isinstance(inputs[\"messages\"], list):\n",
    "        messages = [{\"role\": \"system\", \"content\": system_msg}] + inputs[\"messages\"]\n",
    "    else:\n",
    "        raise ValueError(\"Unexpected format for 'messages'\")\n",
    "    \n",
    "    response = call_ollama(messages, model=\"llama3.2\")\n",
    "    \n",
    "    return {\"answer\": response}"
   ]
  },
  {
   "cell_type": "code",
   "execution_count": 5,
   "metadata": {},
   "outputs": [
    {
     "name": "stderr",
     "output_type": "stream",
     "text": [
      "c:\\Users\\10139528\\Downloads\\Document-Buddy-App-main\\Document-Buddy-App-main\\myenv\\lib\\site-packages\\tqdm\\auto.py:21: TqdmWarning: IProgress not found. Please update jupyter and ipywidgets. See https://ipywidgets.readthedocs.io/en/stable/user_install.html\n",
      "  from .autonotebook import tqdm as notebook_tqdm\n"
     ]
    },
    {
     "name": "stdout",
     "output_type": "stream",
     "text": [
      "View the evaluation results for experiment: 'llama3.2-Four-metrics-2b510da0' at:\n",
      "https://smith.langchain.com/o/a38aac4e-6076-448b-8973-6807f5f8eeaf/datasets/f54332f3-f098-4a41-ba9b-bfd0f8df473e/compare?selectedSessions=04d7d313-3a53-4df4-9afe-287033664fdf\n",
      "\n",
      "\n"
     ]
    },
    {
     "name": "stderr",
     "output_type": "stream",
     "text": [
      "13it [10:13, 47.20s/it]"
     ]
    },
    {
     "name": "stdout",
     "output_type": "stream",
     "text": [
      "<ExperimentResults llama3.2-Four-metrics-2b510da0>\n"
     ]
    },
    {
     "name": "stderr",
     "output_type": "stream",
     "text": [
      "\n"
     ]
    }
   ],
   "source": [
    "# Adding all evaluators to qa_evalulator list\n",
    "qa_evalulator = [context_precision_at_k,faithfulness,context_recall,answer_relevancy]\n",
    "\n",
    "# Conduct evaluation\"\n",
    "experiment_results = evaluate(\n",
    "    my_app,\n",
    "    data=dataset.name,\n",
    "    evaluators=qa_evalulator,\n",
    "    experiment_prefix=\"llama3.2-Four-metrics\",\n",
    ")\n",
    "\n",
    "print(experiment_results)\n"
   ]
  },
  {
   "cell_type": "markdown",
   "metadata": {},
   "source": [
    "## Gemma"
   ]
  },
  {
   "cell_type": "code",
   "execution_count": 3,
   "metadata": {},
   "outputs": [],
   "source": [
    "from groq import Groq\n",
    "from langsmith.schemas import Run, Example\n",
    "from langsmith.evaluation import evaluate\n",
    "\n",
    "# Initialize Groq client with API key\n",
    "groq_client = Groq(api_key=\"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\")\n",
    "\n",
    "def my_app(inputs: dict) -> dict:\n",
    "    \"\"\"\n",
    "    Generates answers to user questions based on the provided context using the Groq API.\n",
    "    \"\"\"\n",
    "    system_msg = \"You are a helpful assistant for document-based queries. \\n\\n\\n\"\n",
    "    if isinstance(inputs[\"messages\"], str):\n",
    "        messages = [\n",
    "            {\"role\": \"system\", \"content\": system_msg},\n",
    "            {\"role\": \"user\", \"content\": inputs[\"messages\"]}\n",
    "        ]\n",
    "    elif isinstance(inputs[\"messages\"], list):\n",
    "        messages = [{\"role\": \"system\", \"content\": system_msg}] + inputs[\"messages\"]\n",
    "    else:\n",
    "        raise ValueError(\"Unexpected format for 'messages'\")\n",
    "\n",
    "    try:\n",
    "        response = groq_client.chat.completions.create(\n",
    "            messages=messages,\n",
    "            model=\"gemma2-9b-it\",\n",
    "            max_tokens=1024,\n",
    "            temperature=0.7\n",
    "        )\n",
    "        return {\"answer\": response.choices[0].message.content}\n",
    "    except Exception as e:\n",
    "        return {\"error\": f\"An error occurred while generating the response: {str(e)}\"}"
   ]
  },
  {
   "cell_type": "code",
   "execution_count": 7,
   "metadata": {},
   "outputs": [
    {
     "name": "stdout",
     "output_type": "stream",
     "text": [
      "View the evaluation results for experiment: 'Groq-evaluations-four-metircs-6c709769' at:\n",
      "https://smith.langchain.com/o/a38aac4e-6076-448b-8973-6807f5f8eeaf/datasets/f54332f3-f098-4a41-ba9b-bfd0f8df473e/compare?selectedSessions=92e0e5bc-9c04-4a36-bce2-e377b16f076e\n",
      "\n",
      "\n"
     ]
    },
    {
     "name": "stderr",
     "output_type": "stream",
     "text": [
      "13it [00:03,  4.24it/s]"
     ]
    },
    {
     "name": "stdout",
     "output_type": "stream",
     "text": [
      "Evaluation Results: <ExperimentResults Groq-evaluations-four-metircs-6c709769>\n"
     ]
    },
    {
     "name": "stderr",
     "output_type": "stream",
     "text": [
      "\n"
     ]
    }
   ],
   "source": [
    "# Combine evaluators\n",
    "qa_evaluators = [\n",
    "   context_precision_at_k,faithfulness,context_recall,answer_relevancy]\n",
    "\n",
    "# Run evaluation\n",
    "experiment_results = evaluate(\n",
    "    my_app,\n",
    "    data=dataset.name,\n",
    "    evaluators=qa_evaluators,\n",
    "    experiment_prefix=\"Groq-evaluations-four-metircs\",\n",
    "    metadata={\"variant\": \"stuff website context\"}\n",
    ")\n",
    "\n",
    "print(\"Evaluation Results:\", experiment_results)"
   ]
  },
  {
   "cell_type": "markdown",
   "metadata": {},
   "source": [
    "## Mistral"
   ]
  },
  {
   "cell_type": "code",
   "execution_count": 8,
   "metadata": {},
   "outputs": [],
   "source": [
    "from groq import Groq\n",
    "from langsmith.schemas import Run, Example\n",
    "from langsmith.evaluation import evaluate\n",
    "\n",
    "# Initialize Groq client with API key\n",
    "groq_client = Groq(api_key=\"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\")\n",
    "\n",
    "def my_app(inputs: dict) -> dict:\n",
    "    \"\"\"\n",
    "    Generates answers to user questions based on the provided context using the Groq API.\n",
    "    \"\"\"\n",
    "    system_msg = \"You are a helpful assistant for document-based queries. \\n\\n\\n\"\n",
    "    if isinstance(inputs[\"messages\"], str):\n",
    "        messages = [\n",
    "            {\"role\": \"system\", \"content\": system_msg},\n",
    "            {\"role\": \"user\", \"content\": inputs[\"messages\"]}\n",
    "        ]\n",
    "    elif isinstance(inputs[\"messages\"], list):\n",
    "        messages = [{\"role\": \"system\", \"content\": system_msg}] + inputs[\"messages\"]\n",
    "    else:\n",
    "        raise ValueError(\"Unexpected format for 'messages'\")\n",
    "\n",
    "    try:\n",
    "        response = groq_client.chat.completions.create(\n",
    "            messages=messages,\n",
    "            model=\"mixtral-8x7b-32768\",\n",
    "            max_tokens=1024,\n",
    "            temperature=0.7\n",
    "        )\n",
    "        return {\"answer\": response.choices[0].message.content}\n",
    "    except Exception as e:\n",
    "        return {\"error\": f\"An error occurred while generating the response: {str(e)}\"}\n"
   ]
  },
  {
   "cell_type": "code",
   "execution_count": 9,
   "metadata": {},
   "outputs": [
    {
     "name": "stdout",
     "output_type": "stream",
     "text": [
      "View the evaluation results for experiment: 'Mixtral-Eval-Four-Metrics-7b7c3cdd' at:\n",
      "https://smith.langchain.com/o/a38aac4e-6076-448b-8973-6807f5f8eeaf/datasets/f54332f3-f098-4a41-ba9b-bfd0f8df473e/compare?selectedSessions=f90aa10c-f801-49b7-9c5f-286665f5fcc9\n",
      "\n",
      "\n"
     ]
    },
    {
     "name": "stderr",
     "output_type": "stream",
     "text": [
      "13it [00:02,  5.49it/s]"
     ]
    },
    {
     "name": "stdout",
     "output_type": "stream",
     "text": [
      "Evaluation Results: <ExperimentResults Mixtral-Eval-Four-Metrics-7b7c3cdd>\n"
     ]
    },
    {
     "name": "stderr",
     "output_type": "stream",
     "text": [
      "\n"
     ]
    }
   ],
   "source": [
    "# Combine evaluators\n",
    "qa_evaluators = [\n",
    "    context_precision_at_k,faithfulness,context_recall,answer_relevancy\n",
    "]\n",
    "\n",
    "# Run evaluation\n",
    "experiment_results = evaluate(\n",
    "    my_app,\n",
    "    data=dataset.name,\n",
    "    evaluators=qa_evaluators,\n",
    "    experiment_prefix=\"Mixtral-Eval-Four-Metrics\",\n",
    "    metadata={\"variant\": \"stuff website context\"}\n",
    ")\n",
    "\n",
    "print(\"Evaluation Results:\", experiment_results)"
   ]
  },
  {
   "cell_type": "code",
   "execution_count": null,
   "metadata": {},
   "outputs": [],
   "source": []
  }
 ],
 "metadata": {
  "kernelspec": {
   "display_name": "myenv",
   "language": "python",
   "name": "python3"
  },
  "language_info": {
   "codemirror_mode": {
    "name": "ipython",
    "version": 3
   },
   "file_extension": ".py",
   "mimetype": "text/x-python",
   "name": "python",
   "nbconvert_exporter": "python",
   "pygments_lexer": "ipython3",
   "version": "3.10.11"
  }
 },
 "nbformat": 4,
 "nbformat_minor": 2
}
